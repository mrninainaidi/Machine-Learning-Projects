{
  "nbformat": 4,
  "nbformat_minor": 0,
  "metadata": {
    "colab": {
      "name": "personal_loan_default_logReg.ipynb",
      "provenance": [],
      "private_outputs": true,
      "collapsed_sections": [
        "c7PYWHpONyEv",
        "ZWWTMkk2Oc0a",
        "L_bFaWfpx6cr",
        "xsfUBfo9BW-2"
      ],
      "toc_visible": true,
      "authorship_tag": "ABX9TyPPx7VJuvYt4C5QK/kBa7jb",
      "include_colab_link": true
    },
    "kernelspec": {
      "name": "python3",
      "display_name": "Python 3"
    }
  },
  "cells": [
    {
      "cell_type": "markdown",
      "metadata": {
        "id": "view-in-github",
        "colab_type": "text"
      },
      "source": [
        "<a href=\"https://colab.research.google.com/github/mrninainaidi/Machine-Learning-Projects/blob/master/personal_loan_default_logReg.ipynb\" target=\"_parent\"><img src=\"https://colab.research.google.com/assets/colab-badge.svg\" alt=\"Open In Colab\"/></a>"
      ]
    },
    {
      "cell_type": "markdown",
      "metadata": {
        "id": "c7PYWHpONyEv",
        "colab_type": "text"
      },
      "source": [
        "# Preamble\n",
        "\n",
        "* jupyter notebook theme (optional)\n",
        "* package\n",
        "* global variables"
      ]
    },
    {
      "cell_type": "code",
      "metadata": {
        "id": "LfayVAP4m1o6",
        "colab_type": "code",
        "colab": {}
      },
      "source": [
        "# # Optional: setup theme for Jupyter Notebook\n",
        "# # comment out if running on Colab\n",
        "# import jupytertheme as jt\n",
        "# from jupyterthemes.stylefx import set_nb_theme\n",
        "\n",
        "# set_nb_theme('chesterish')"
      ],
      "execution_count": null,
      "outputs": []
    },
    {
      "cell_type": "code",
      "metadata": {
        "id": "Qes1W2qBW-xH",
        "colab_type": "code",
        "colab": {}
      },
      "source": [
        "import pandas as pd\n",
        "import numpy as np\n",
        "import math\n",
        "\n",
        "from sklearn.preprocessing import LabelEncoder\n",
        "from sklearn.decomposition import PCA\n",
        "from sklearn.preprocessing import MinMaxScaler\n",
        "from sklearn.metrics import make_scorer\n",
        "from sklearn.model_selection import KFold, StratifiedKFold\n",
        "from sklearn.metrics import roc_auc_score, accuracy_score\n",
        "\n",
        "import xgboost\n",
        "from xgboost import plot_importance\n",
        "\n",
        "from hyperopt import fmin, hp, tpe, Trials, space_eval, STATUS_OK, STATUS_RUNNING\n",
        "\n",
        "import gc\n",
        "from scipy import stats\n",
        "import time\n",
        "import datetime\n",
        "import matplotlib.pyplot as plt\n",
        "\n",
        "from sklearn.linear_model import LogisticRegression\n",
        "from sklearn.model_selection import cross_val_score\n",
        "\n",
        "!pip install missingno\n",
        "import missingno as msno\n",
        "\n",
        "!pip install category_encoders\n",
        "import category_encoders as ce\n",
        "\n",
        "!pip install imblearn\n",
        "from imblearn.over_sampling import SMOTE\n",
        "\n",
        "\n",
        "# import seaborn as sns\n",
        "# import altair as alt"
      ],
      "execution_count": null,
      "outputs": []
    },
    {
      "cell_type": "code",
      "metadata": {
        "id": "AfTuEd2Mcntb",
        "colab_type": "code",
        "colab": {}
      },
      "source": [
        "RAND_STATE = 3"
      ],
      "execution_count": null,
      "outputs": []
    },
    {
      "cell_type": "markdown",
      "metadata": {
        "id": "9ypXevEy7-Jx",
        "colab_type": "text"
      },
      "source": [
        "# Data Processing and Cleaning"
      ]
    },
    {
      "cell_type": "markdown",
      "metadata": {
        "id": "cOMak_6b8HlT",
        "colab_type": "text"
      },
      "source": [
        "## Import Data"
      ]
    },
    {
      "cell_type": "code",
      "metadata": {
        "id": "BWNPSnO5XIf6",
        "colab_type": "code",
        "colab": {}
      },
      "source": [
        "# For colab\n",
        "from google.colab import drive\n",
        "drive.mount('/content/gdrive')\n",
        "root_path = 'gdrive/My Drive/further_study/machine_learning_projects/personal_loan_rating/'\n",
        "df = pd.read_csv(root_path+'default_loan_no_quotes.csv')"
      ],
      "execution_count": null,
      "outputs": []
    },
    {
      "cell_type": "code",
      "metadata": {
        "id": "FXBHP9uTY6H-",
        "colab_type": "code",
        "colab": {}
      },
      "source": [
        "# # For others (Jupyter Notebook)\n",
        "# # NOTE: This requies the data file to be saved under the same directory as this file.\n",
        "\n",
        "# df = pd.read_csv('default_loan_no_quotes.csv')"
      ],
      "execution_count": null,
      "outputs": []
    },
    {
      "cell_type": "code",
      "metadata": {
        "id": "DQObSRNhey63",
        "colab_type": "code",
        "colab": {}
      },
      "source": [
        "df.head()"
      ],
      "execution_count": null,
      "outputs": []
    },
    {
      "cell_type": "code",
      "metadata": {
        "id": "AbBxu5MMavVy",
        "colab_type": "code",
        "colab": {}
      },
      "source": [
        "df.columns = df.columns.str.replace(' ','_')\n",
        "df.columns = map(str.lower, df.columns)\n",
        "df.columns"
      ],
      "execution_count": null,
      "outputs": []
    },
    {
      "cell_type": "markdown",
      "metadata": {
        "id": "BrVBFnUp8MZd",
        "colab_type": "text"
      },
      "source": [
        "## Features With Null Values"
      ]
    },
    {
      "cell_type": "code",
      "metadata": {
        "id": "raURiCOxksXh",
        "colab_type": "code",
        "colab": {}
      },
      "source": [
        "msno.bar(df)"
      ],
      "execution_count": null,
      "outputs": []
    },
    {
      "cell_type": "code",
      "metadata": {
        "id": "0UV40OxRZcwp",
        "colab_type": "code",
        "colab": {}
      },
      "source": [
        "na_names = list()\n",
        "\n",
        "for col in df.columns:\n",
        "    if df[col].isna().sum() > 0:\n",
        "        print(f'Feature: {col}, has {100 * df[col].isna().sum() / df[col].shape[0]:.3f}%  or {df[col].isna().sum()} null values.')\n",
        "        na_names.append(col)\n",
        "\n",
        "na_names"
      ],
      "execution_count": null,
      "outputs": []
    },
    {
      "cell_type": "markdown",
      "metadata": {
        "id": "1qumnkm98Xbq",
        "colab_type": "text"
      },
      "source": [
        "## Drop the columns of little interests\n"
      ]
    },
    {
      "cell_type": "code",
      "metadata": {
        "id": "pP40IhUHm7IJ",
        "colab_type": "code",
        "colab": {}
      },
      "source": [
        "'''\n",
        "Drop the columns of little interests\n",
        "'''\n",
        "\n",
        "not_interested = ['entry_date', 'fist_installment_date',\\\n",
        "                  'id', 'deposit_amt', 'financed_amt', 'term_remaining',\\\n",
        "                  'instalment_amt', 'amt_paid_to_merchant_nettofmerchfeesandgst',\\\n",
        "                  'est_fees', 'proc_fees', 'other_fees', 'total_merchant_charges',\\\n",
        "                  'total_consumer_charges']\n",
        "\n",
        "for name in not_interested: \n",
        "    if name not in df.columns:\n",
        "        raise ValueError(f'column name: {name} is not valid')\n",
        "\n",
        "df.drop(columns=not_interested, inplace=True)\n",
        "# df.head()"
      ],
      "execution_count": null,
      "outputs": []
    },
    {
      "cell_type": "markdown",
      "metadata": {
        "id": "lda4tSKq8dCp",
        "colab_type": "text"
      },
      "source": [
        "## Cleaning the consumer post code feature"
      ]
    },
    {
      "cell_type": "code",
      "metadata": {
        "id": "_dT9M4hZyX3a",
        "colab_type": "code",
        "colab": {}
      },
      "source": [
        "# manually correct typos in post code\n",
        "df['consumer_post_code'].loc[df['consumer_post_code'] == '28501'] = '2850'\n",
        "df['consumer_post_code'].loc[df['consumer_post_code'] == '2166`1'] = '2166'\n",
        "df['consumer_post_code'].loc[df['consumer_post_code'] == '414'] = np.nan\n",
        "df['consumer_post_code'].loc[df['consumer_post_code'] == 'CM144WG'] = np.nan\n",
        "df['consumer_post_code'].loc[df['consumer_post_code'] == '4Q53'] = '4053'\n",
        "df['consumer_post_code'].loc[df['consumer_post_code'] == '40/2'] = '4012'\n",
        "df['consumer_post_code'].loc[df['consumer_post_code'] == '482O'] = '4820'\n",
        "df['consumer_post_code'].loc[df['consumer_post_code'] == '500O'] = '5000'\n",
        "df['consumer_post_code'].loc[df['consumer_post_code'] == '430('] = np.nan\n",
        "df['consumer_post_code'].loc[df['consumer_post_code'] == '48/7'] = '4817'\n",
        "\n",
        "# convert NA values to 'unknown'\n",
        "consumerid_list = df['consumer_id'].loc[df['consumer_post_code'].isna()].values\n",
        "consumerid_list = set(consumerid_list)\n",
        "print(consumerid_list)\n",
        "\n",
        "for id in consumerid_list:\n",
        "    if df['consumer_post_code'].loc[df['consumer_id'] == id].isnull().values.all():\n",
        "        print(f'consumer: {id} has no post code info')\n",
        "        df['consumer_post_code'].loc[df['consumer_id'] == id] = 'unknown'\n",
        "    else:\n",
        "        possible_post_codes = df[\"consumer_post_code\"].loc[df[\"consumer_id\"] == id].values\n",
        "        possible_post_codes = possible_post_codes[pd.notna(possible_post_codes)]\n",
        "        print(f'consumer: {id} has the following post code: {possible_post_codes}')\n",
        "        print(f'    applying post code to consumer: {id}')\n",
        "        df['consumer_post_code'].loc[df['consumer_id'] == id] = str(int(possible_post_codes[0]))\n",
        "\n",
        "\n",
        "# make sure all int and float-type entries are cast to str\n",
        "df['consumer_post_code'] = df['consumer_post_code'].astype(str).replace('\\.0', '', regex=True)\n",
        "print('Convertion complete.')"
      ],
      "execution_count": null,
      "outputs": []
    },
    {
      "cell_type": "code",
      "metadata": {
        "id": "q1Q9a0DmLCax",
        "colab_type": "code",
        "colab": {}
      },
      "source": [
        "# # to check if all instances of the 'consumer_post_code' feature have been converted\n",
        "# # to string-type\n",
        "# for _, row in df.iterrows():\n",
        "#     try: \n",
        "#         assert(isinstance(row['consumer_post_code'], str))\n",
        "#     except: \n",
        "#         print(row)"
      ],
      "execution_count": null,
      "outputs": []
    },
    {
      "cell_type": "markdown",
      "metadata": {
        "id": "aeHhBDIP8qJb",
        "colab_type": "text"
      },
      "source": [
        "## Cleaning the consumer year of birth feature"
      ]
    },
    {
      "cell_type": "code",
      "metadata": {
        "id": "t4Wp1nG1Mrow",
        "colab_type": "code",
        "colab": {}
      },
      "source": [
        "# convert NA values to '99/99/9999'\n",
        "consumerid_list = df['consumer_id'].loc[df['consumer_year_of_birth'].isna()].values\n",
        "consumerid_list = set(consumerid_list)\n",
        "\n",
        "for id in consumerid_list:\n",
        "    if df['consumer_year_of_birth'].loc[df['consumer_id'] == id].isnull().values.all():\n",
        "        print(f'consumer: {id} has no DoB info')\n",
        "        df['consumer_year_of_birth'].loc[df['consumer_id'] == id] = '99/99/9999'\n",
        "    else:\n",
        "        \n",
        "        possibleDoB = df[\"consumer_year_of_birth\"].loc[df[\"consumer_id\"] == id].values\n",
        "        possibleDoB = possibleDoB[pd.notna(possibleDoB)]\n",
        "        print(f'consumer: {id} has the following DoBs: {possibleDoB}')\n",
        "        print(f'    applying DoB to consumer: {id}')\n",
        "        df['consumer_year_of_birth'].loc[df['consumer_id'] == id] = str(possibleDoB[0])\n",
        "\n",
        "# Convert str-type DoB to int-type year of birth\n",
        "df['consumer_year_of_birth'] = df['consumer_year_of_birth'].str.split('/', expand=True)[2].astype(int)\n",
        "print('Convertion complete.')"
      ],
      "execution_count": null,
      "outputs": []
    },
    {
      "cell_type": "code",
      "metadata": {
        "id": "CKO6VKHbWamk",
        "colab_type": "code",
        "colab": {}
      },
      "source": [
        "# to check if all instances of the 'consumer_year_of_birth' feature have been converted\n",
        "# to int-type or np.nan\n",
        "# for _, row in df.iterrows():\n",
        "#     yob = row['consumer_year_of_birth']\n",
        "#     if isinstance(yob, int):\n",
        "#         if yob > 1900 and yob <= 9999:\n",
        "#             continue\n",
        "#     else: \n",
        "#         print(f'row[\"consumer_year_of_birth\"] = {yob}')\n",
        "# print('Assertion complete.')"
      ],
      "execution_count": null,
      "outputs": []
    },
    {
      "cell_type": "code",
      "metadata": {
        "id": "u8_UXd7J91tB",
        "colab_type": "code",
        "colab": {}
      },
      "source": [
        "x = df['consumer_year_of_birth'].value_counts(normalize=True).sort_index().index\n",
        "y = df['consumer_year_of_birth'].value_counts(normalize=True).sort_index().values\n",
        "plt.xlim(1900,2000)\n",
        "plt.title('Consumer Age Distribution')\n",
        "plt.xlabel('Year of Birth')\n",
        "plt.ylabel('Probability')\n",
        "plt.plot(x, y,'g*')\n"
      ],
      "execution_count": null,
      "outputs": []
    },
    {
      "cell_type": "markdown",
      "metadata": {
        "id": "1TiRpV7C8zRl",
        "colab_type": "text"
      },
      "source": [
        "## Converting application_date feature to application_month and application_year"
      ]
    },
    {
      "cell_type": "code",
      "metadata": {
        "id": "qtnZxTUG58ou",
        "colab_type": "code",
        "colab": {}
      },
      "source": [
        "# Convert str-type application date to int-type year of application\n",
        "df['application_year'] = df['application_date'].str.split('/', expand=True)[2].astype(int)\n",
        "df['application_month'] = df['application_date'].str.split('/', expand=True)[1].astype(int)\n"
      ],
      "execution_count": null,
      "outputs": []
    },
    {
      "cell_type": "markdown",
      "metadata": {
        "id": "0BKv5pbq87QS",
        "colab_type": "text"
      },
      "source": [
        "## Converting recent_default_default_date to recent_default_year and recent_dafault_month"
      ]
    },
    {
      "cell_type": "code",
      "metadata": {
        "id": "xchjzgDH7oTj",
        "colab_type": "code",
        "colab": {}
      },
      "source": [
        "df['recent_default_default_date'] = df['recent_default_default_date'].replace(np.nan, '00/00/0000', regex=True)\n",
        "df['recent_default_year'] = df['recent_default_default_date'].str.split('/', expand=True)[2].astype(int)\n",
        "df['recent_default_month'] = df['recent_default_default_date'].str.split('/', expand=True)[1].astype(int)\n",
        "# df['recent_default_month'].value_counts()"
      ],
      "execution_count": null,
      "outputs": []
    },
    {
      "cell_type": "code",
      "metadata": {
        "id": "oX1AEV8Tv-FN",
        "colab_type": "code",
        "colab": {}
      },
      "source": [
        "x = df['recent_default_month'].value_counts(normalize=True).sort_index().index\n",
        "y = df['recent_default_month'].value_counts(normalize=True).sort_index().values\n",
        "\n",
        "plt.xlim(1,12)\n",
        "plt.ylim(0,0.02)\n",
        "\n",
        "plt.title('Recent default month distribution')\n",
        "plt.xlabel('Month of default')\n",
        "plt.ylabel('Probability')\n",
        "plt.plot(x, y,'g*-')"
      ],
      "execution_count": null,
      "outputs": []
    },
    {
      "cell_type": "markdown",
      "metadata": {
        "id": "sFyjY--8BZgo",
        "colab_type": "text"
      },
      "source": [
        "## Adding age_of_application feature (integer)"
      ]
    },
    {
      "cell_type": "code",
      "metadata": {
        "id": "ZieMSSQPBmkj",
        "colab_type": "code",
        "colab": {}
      },
      "source": [
        "df['age_of_application'] = df['application_year'] - df['consumer_year_of_birth']\n",
        "\n",
        "# use this \"age of application\" to validate the \"consumer year of birth\"\n",
        "# if \"age of application\" < 18, the minimum legal age of having a credit account\n",
        "# the \"consumer year of birth\" entry must be faulty. \n",
        "df['consumer_year_of_birth'].loc[df['age_of_application'] < 18] = int(9999)\n",
        "df['age_of_application'].loc[df['age_of_application'] < 18] = int(-1)"
      ],
      "execution_count": null,
      "outputs": []
    },
    {
      "cell_type": "code",
      "metadata": {
        "id": "j-bQQio2OB-x",
        "colab_type": "code",
        "colab": {}
      },
      "source": [
        "x = df['age_of_application'].value_counts(normalize=True).sort_index().index\n",
        "y = df['age_of_application'].value_counts(normalize=True).sort_index().values\n",
        "plt.xlim(-1,100)\n",
        "plt.title('Consumer Age of Application')\n",
        "plt.xlabel('Consumer Age')\n",
        "plt.ylabel('Probability')\n",
        "plt.plot(x, y, 'g*')"
      ],
      "execution_count": null,
      "outputs": []
    },
    {
      "cell_type": "markdown",
      "metadata": {
        "id": "qcsXJzCOW3cG",
        "colab_type": "text"
      },
      "source": [
        "## Adding age_of_recent_default feature (integer)"
      ]
    },
    {
      "cell_type": "code",
      "metadata": {
        "id": "3GjwBFdAUrf1",
        "colab_type": "code",
        "colab": {}
      },
      "source": [
        "df['age_of_recent_default'] = df['recent_default_year'] - df['consumer_year_of_birth']\n",
        "# df['age_of_recent_default'].value_counts(normalize=True)"
      ],
      "execution_count": null,
      "outputs": []
    },
    {
      "cell_type": "code",
      "metadata": {
        "id": "VYODky0iHMuu",
        "colab_type": "code",
        "colab": {}
      },
      "source": [
        "# recent default should not happen before the year of application\n",
        "# the age of application has to be > 18 for age of recent default to be effective\n",
        "\n",
        "# For invalid entry of recent_default_default_date and consumer_year_of_birth\n",
        "df['age_of_recent_default'].loc[(df['age_of_recent_default'] <df['age_of_application'])\\\n",
        "                                | (df['age_of_application'] < 18)] = int(-1)\n",
        "df['recent_default_year'].loc[(df['age_of_recent_default'] <df['age_of_application'])\\\n",
        "                                | (df['age_of_application'] < 18)] = int(0)\n",
        "df['recent_default_month'].loc[(df['age_of_recent_default'] <df['age_of_application'])\\\n",
        "                                | (df['age_of_application'] < 18)] = int(0)\n",
        "\n",
        "# For absent recent_default_default_date \n",
        "df['age_of_recent_default'].loc[df['recent_default_year'] == 0] = int(0)\n",
        "df['recent_default_year'].loc[df['recent_default_year'] == 0] = int(0)\n",
        "df['recent_default_month'].loc[df['recent_default_year'] == 0] = int(0)\n",
        "\n",
        "print('Convertion complete.')"
      ],
      "execution_count": null,
      "outputs": []
    },
    {
      "cell_type": "code",
      "metadata": {
        "id": "LrZQh2iBV6Gn",
        "colab_type": "code",
        "colab": {}
      },
      "source": [
        "x = df['age_of_recent_default'].value_counts(normalize=True).sort_index().index\n",
        "y = df['age_of_recent_default'].value_counts(normalize=True).sort_index().values\n",
        "plt.xlim(20,100)\n",
        "plt.ylim(0,0.01)\n",
        "plt.title('Consumer Age of Recent Default')\n",
        "plt.xlabel('Consumer Age')\n",
        "plt.ylabel('Probability')\n",
        "plt.plot(x, y, 'g*')"
      ],
      "execution_count": null,
      "outputs": []
    },
    {
      "cell_type": "markdown",
      "metadata": {
        "id": "D3KDqO-jfp0D",
        "colab_type": "text"
      },
      "source": [
        "## Cleaning product feature"
      ]
    },
    {
      "cell_type": "code",
      "metadata": {
        "id": "wF5ul58lfXpR",
        "colab_type": "code",
        "colab": {}
      },
      "source": [
        "# replace NaN with 'unknown'\n",
        "df['product'] = df['product'].replace(np.nan, 'unknown', regex=True)"
      ],
      "execution_count": null,
      "outputs": []
    },
    {
      "cell_type": "code",
      "metadata": {
        "id": "mq9qS9gOeThc",
        "colab_type": "code",
        "colab": {}
      },
      "source": [
        "# shorten the tails\n",
        "x = df['product'].value_counts(normalize=True).index\n",
        "y = df['product'].value_counts(normalize=True).values"
      ],
      "execution_count": null,
      "outputs": []
    },
    {
      "cell_type": "markdown",
      "metadata": {
        "id": "HvLoT-zFQ-nW",
        "colab_type": "text"
      },
      "source": [
        "## Shorten the features with heavy tails\n",
        "\n",
        "* 'product'\n",
        "* 'merchant_name'\n",
        "* 'merchant_number'"
      ]
    },
    {
      "cell_type": "code",
      "metadata": {
        "id": "EIL2Bq2dRKqn",
        "colab_type": "code",
        "colab": {}
      },
      "source": [
        "\n",
        "def convert_tails_to_others(dataframe, feature, fracToConvert):\n",
        "    x = dataframe[feature].value_counts(normalize=True).index\n",
        "    y = dataframe[feature].value_counts(normalize=True).values\n",
        "\n",
        "    all_list = dataframe[feature].value_counts(normalize=True).index.tolist()\n",
        "\n",
        "    # obtain the list of value to keep\n",
        "    threshold = 1 - fracToConvert\n",
        "    current = 0.0\n",
        "    keep_list = list()\n",
        "\n",
        "    for i in range(len(y)):\n",
        "        if current >= threshold:\n",
        "            break\n",
        "        current += y[i]\n",
        "        keep_list.append(x[i])\n",
        "\n",
        "    drop_list = [x for x in all_list if x not in keep_list]\n",
        "\n",
        "    # apply keep_list\n",
        "    dataframe[feature].loc[dataframe[feature].isin(drop_list)] = 'others'\n",
        "    # print(dataframe[feature].value_counts(normalize=True))\n",
        "    # print()"
      ],
      "execution_count": null,
      "outputs": []
    },
    {
      "cell_type": "code",
      "metadata": {
        "id": "tXUKFo-PQ_b1",
        "colab_type": "code",
        "colab": {}
      },
      "source": [
        "col_names = ['product', 'merchant_name', 'merchant_number']\n",
        "frac_dict = {'product':0.08, 'merchant_name':0.05, 'merchant_number':0.05}\n",
        "\n",
        "for name in col_names:\n",
        "    convert_tails_to_others(df, name, frac_dict[name])"
      ],
      "execution_count": null,
      "outputs": []
    },
    {
      "cell_type": "markdown",
      "metadata": {
        "id": "ZHiU-haX6xIm",
        "colab_type": "text"
      },
      "source": [
        "## Cleaning total_balance_outstanding feature"
      ]
    },
    {
      "cell_type": "code",
      "metadata": {
        "id": "Mgd-Iy4f14iV",
        "colab_type": "code",
        "colab": {}
      },
      "source": [
        "df_tmp = df['total_balance_outstanding']\n",
        "\n",
        "df_tmp.replace(np.nan, '0.0', regex=True, inplace=True)\n",
        "df_tmp.replace(',', '', regex=True, inplace=True)\n",
        "df_tmp = df_tmp.astype(float)\n",
        "\n",
        "df['total_balance_outstanding'] = df_tmp\n",
        "del df_tmp\n",
        "print('Convertion complete')"
      ],
      "execution_count": null,
      "outputs": []
    },
    {
      "cell_type": "code",
      "metadata": {
        "id": "xHU-Iqef5QDD",
        "colab_type": "code",
        "colab": {}
      },
      "source": [
        "# # check if everything has been converted to float-type\n",
        "# for index, value in df['total_balance_outstanding'].items():\n",
        "#     if not isinstance(value, float):\n",
        "#         print(f'{value} ----- {type(value)}')\n",
        "# print('Assertion complete.')"
      ],
      "execution_count": null,
      "outputs": []
    },
    {
      "cell_type": "markdown",
      "metadata": {
        "id": "K93H3sfut1Ij",
        "colab_type": "text"
      },
      "source": [
        "## Cleaning recent_default_default_amt feature"
      ]
    },
    {
      "cell_type": "code",
      "metadata": {
        "id": "iNC2_s-yt5hz",
        "colab_type": "code",
        "colab": {}
      },
      "source": [
        "df_tmp = df['recent_default_default_amt']\n",
        "\n",
        "df_tmp.replace(np.nan, '0.0', regex=True, inplace=True)\n",
        "df_tmp.replace(',', '', regex=True, inplace=True)\n",
        "df_tmp = df_tmp.astype(float)\n",
        "\n",
        "df['recent_default_default_amt'] = df_tmp\n",
        "del df_tmp\n",
        "print('Convertion complete')"
      ],
      "execution_count": null,
      "outputs": []
    },
    {
      "cell_type": "code",
      "metadata": {
        "id": "93Dt0Sy4uiRh",
        "colab_type": "code",
        "colab": {}
      },
      "source": [
        "# # check if everything has been converted to float-type\n",
        "# for index, value in df['recent_default_default_amt'].items():\n",
        "#     if not isinstance(value, float):\n",
        "#         print(f'{value} ----- {type(value)}')\n",
        "# print('Assertion complete.')"
      ],
      "execution_count": null,
      "outputs": []
    },
    {
      "cell_type": "markdown",
      "metadata": {
        "id": "qAeieMjhXlQb",
        "colab_type": "text"
      },
      "source": [
        "## Adding term_run_frac feature\n",
        "representing the fraction of terms that have been fulfilled. "
      ]
    },
    {
      "cell_type": "code",
      "metadata": {
        "id": "ApB0LChyXkWs",
        "colab_type": "code",
        "colab": {}
      },
      "source": [
        "df['term_run_frac'] = df['term_run'] / df['total_term']"
      ],
      "execution_count": null,
      "outputs": []
    },
    {
      "cell_type": "markdown",
      "metadata": {
        "id": "h1hUvZKv9JAS",
        "colab_type": "text"
      },
      "source": [
        "## Adding total_month feature"
      ]
    },
    {
      "cell_type": "code",
      "metadata": {
        "id": "_jFde3zR9Ird",
        "colab_type": "code",
        "colab": {}
      },
      "source": [
        "df_tmp = pd.DataFrame()\n",
        "df_tmp['total_term'] = df['total_term']\n",
        "df_tmp['total_month'] = df['total_term']\n",
        "df_tmp['freq'] = df['freq']\n",
        "\n",
        "mask = (df_tmp['freq'] == 'FN')\n",
        "df_valid = df_tmp[mask]\n",
        "\n",
        "df_tmp.loc[mask, 'total_month'] = df_valid['total_term'] / 2\n",
        "\n",
        "df['total_month'] = df_tmp['total_month']\n",
        "del df_tmp"
      ],
      "execution_count": null,
      "outputs": []
    },
    {
      "cell_type": "markdown",
      "metadata": {
        "id": "CyGDovP3Dasn",
        "colab_type": "text"
      },
      "source": [
        "## Adding conditional mean/std features"
      ]
    },
    {
      "cell_type": "code",
      "metadata": {
        "id": "4uX5Q5VTZ4Wo",
        "colab_type": "code",
        "colab": {}
      },
      "source": [
        "df.drop(df[df['age_of_application'] == -1].index, axis=0, inplace=True)\n",
        "\n",
        "df['age_of_application'].value_counts().sort_index()"
      ],
      "execution_count": null,
      "outputs": []
    },
    {
      "cell_type": "code",
      "metadata": {
        "id": "Tvwm6TDODYp6",
        "colab_type": "code",
        "colab": {}
      },
      "source": [
        "# Conditioning for \"age_op_application\"\n",
        "df['aop_indName_mean'] = df['age_of_application'] / df.groupby(['industry_name'])['age_of_application'].transform('mean')\n",
        "df['aop_indName_stdev'] = df['age_of_application'] / df.groupby(['industry_name'])['age_of_application'].transform('std')\n",
        "\n",
        "df['aop_pmtTp_mean'] = df['age_of_application'] / df.groupby(['payment_type'])['age_of_application'].transform('mean')\n",
        "df['aop_pmtTp_stdev'] = df['age_of_application'] / df.groupby(['payment_type'])['age_of_application'].transform('std')\n",
        "\n",
        "df['aop_fq_mean'] = df['age_of_application'] / df.groupby(['freq'])['age_of_application'].transform('mean')\n",
        "df['aop_fq_stdev'] = df['age_of_application'] / df.groupby(['freq'])['age_of_application'].transform('std')\n",
        "\n",
        "df['aop_hoId_mean'] = df['age_of_application'] / df.groupby(['homowner_ind'])['age_of_application'].transform('mean')\n",
        "df['aop_hoId_stdev'] = df['age_of_application'] / df.groupby(['homowner_ind'])['age_of_application'].transform('std')\n",
        "\n",
        "df['aop_hoCon_mean'] = df['age_of_application'] / df.groupby(['homowner_consumer'])['age_of_application'].transform('mean')\n",
        "df['aop_hoCon_stdev'] = df['age_of_application'] / df.groupby(['homowner_consumer'])['age_of_application'].transform('std')\n",
        "\n",
        "\n",
        "# Conditioning for \"purchase_amt\"\n",
        "df['pAmt_indName_mean'] = df['purchase_amt'] / df.groupby(['industry_name'])['purchase_amt'].transform('mean')\n",
        "df['pAmt_indName_stdev'] = df['purchase_amt'] / df.groupby(['industry_name'])['purchase_amt'].transform('std')\n",
        "\n",
        "df['pAmt_pmtTp_mean'] = df['purchase_amt'] / df.groupby(['payment_type'])['purchase_amt'].transform('mean')\n",
        "df['pAmt_pmtTp_stdev'] = df['purchase_amt'] / df.groupby(['payment_type'])['purchase_amt'].transform('std')\n",
        "\n",
        "df['pAmt_fq_mean'] = df['purchase_amt'] / df.groupby(['freq'])['purchase_amt'].transform('mean')\n",
        "df['pAmt_fq_stdev'] = df['purchase_amt'] / df.groupby(['freq'])['purchase_amt'].transform('std')\n",
        "\n",
        "df['pAmt_hoId_mean'] = df['purchase_amt'] / df.groupby(['homowner_ind'])['purchase_amt'].transform('mean')\n",
        "df['pAmt_hoId_stdev'] = df['purchase_amt'] / df.groupby(['homowner_ind'])['purchase_amt'].transform('std')\n",
        "\n",
        "df['pAmt_hoCon_mean'] = df['purchase_amt'] / df.groupby(['homowner_consumer'])['purchase_amt'].transform('mean')\n",
        "df['pAmt_hoCon_stdev'] = df['purchase_amt'] / df.groupby(['homowner_consumer'])['purchase_amt'].transform('std')"
      ],
      "execution_count": null,
      "outputs": []
    },
    {
      "cell_type": "code",
      "metadata": {
        "id": "AfWv18HukSQh",
        "colab_type": "code",
        "colab": {}
      },
      "source": [
        "df.drop(df[df['aop_indName_stdev'].isna()].index, axis=0, inplace=True)"
      ],
      "execution_count": null,
      "outputs": []
    },
    {
      "cell_type": "code",
      "metadata": {
        "id": "mHo3kAh5klR8",
        "colab_type": "code",
        "colab": {}
      },
      "source": [
        "# check for NaN in the conditional features: \n",
        "cond_names = ['aop_indName_mean', 'aop_indName_stdev', 'aop_pmtTp_mean',\\\n",
        "              'aop_pmtTp_stdev', 'aop_fq_mean', 'aop_fq_stdev', 'aop_hoId_mean',\\\n",
        "              'aop_hoId_stdev', 'aop_hoCon_mean', 'aop_hoCon_stdev', 'pAmt_indName_mean',\\\n",
        "              'pAmt_indName_stdev', 'pAmt_pmtTp_mean', 'pAmt_pmtTp_stdev', 'pAmt_fq_mean',\\\n",
        "              'pAmt_fq_stdev', 'pAmt_hoId_mean', 'pAmt_hoId_stdev', 'pAmt_hoCon_mean', 'pAmt_hoCon_stdev']\n",
        "\n",
        "df_tmp = pd.DataFrame()\n",
        "for name in cond_names:\n",
        "    df_tmp[name] = df[name].copy()\n",
        "\n",
        "# df_tmp.head()\n",
        "msno.bar(df_tmp)"
      ],
      "execution_count": null,
      "outputs": []
    },
    {
      "cell_type": "markdown",
      "metadata": {
        "id": "PX4sewp5DNa9",
        "colab_type": "text"
      },
      "source": [
        "## Define ground truth"
      ]
    },
    {
      "cell_type": "code",
      "metadata": {
        "id": "rdivUjVfNekc",
        "colab_type": "code",
        "colab": {}
      },
      "source": [
        "# df_recent = df[[col for col in df.columns if 'recent' in col]]\n",
        "# df_recent['defaultdate'] = df['defaultdate']\n",
        "# df_recent['consumer_id'] = df['consumer_id']\n",
        "# df_recent['defaultamount'] = df['defaultamount']\n",
        "# df_recent['contract_number'] = df['contract_number']\n",
        "# df_recent['contract_status'] = df['contract_status']\n",
        "# df_recent['expected_contract_end_date'] = df['expected_contract_end_date']"
      ],
      "execution_count": null,
      "outputs": []
    },
    {
      "cell_type": "code",
      "metadata": {
        "id": "pAcQTEsynm_M",
        "colab_type": "code",
        "colab": {}
      },
      "source": [
        "# for index, row in df_recent.iterrows():\n",
        "#     if row['recent_default_default_amt'] == 0:\n",
        "#         if isinstance(row['defaultdate'], str):\n",
        "#             print(row)\n",
        "#             print()      "
      ],
      "execution_count": null,
      "outputs": []
    },
    {
      "cell_type": "markdown",
      "metadata": {
        "id": "7U_bCUCS_asC",
        "colab_type": "text"
      },
      "source": [
        "**Test outcome**\n",
        "\n",
        "* when \"recent_default_year\" == 0, there are FIVE instances that \"recent_default_default_amt\" != 0. And all FIVE instances are marked as DEFAULT by the \"contract_status\"\n",
        "\n",
        "\n",
        "* when \"recent_default_default_amt\" == 0, there are TWO instances that \"recent_default_year\" != 0. And all of the TWO instances are marked as PAIDINFULL by the \"contract_status\".\n",
        "\n",
        "    ==> both \"recent_default_year\" and \"recent_default_default_amt\" == 0 means NoDefault\n",
        "\n",
        "**Suspect bad columns:**\n",
        "\n",
        "Assumning 'recent_default_default_amt' is the indicator for the ground truth... \n",
        "\n",
        "* 'defaultdate'\n",
        "\n",
        "* 'defaultamount'\n",
        "\n",
        "* 'total_balance_outstanding'\n",
        "\n",
        "* 'recent_default_default_date' ==> 'recent_default_year' ==> 'recent_default_age'\n",
        "\n",
        "\n",
        "**Question:**\n",
        "\n",
        "Do I go back to realign 'recent_default_year' and 'recent_default_age' with the assumed ground truth???\n"
      ]
    },
    {
      "cell_type": "code",
      "metadata": {
        "id": "ingd24T6LmEz",
        "colab_type": "code",
        "colab": {}
      },
      "source": [
        "# introduce the ground truth according to above analysis\n",
        "df['isDefault'] = df['recent_default_default_amt'] > 0"
      ],
      "execution_count": null,
      "outputs": []
    },
    {
      "cell_type": "markdown",
      "metadata": {
        "id": "k1ZFyqU-_zNT",
        "colab_type": "text"
      },
      "source": [
        "## Finalising data processing and digitising categorical features"
      ]
    },
    {
      "cell_type": "code",
      "metadata": {
        "id": "bRiOwCVFUTWK",
        "colab_type": "code",
        "colab": {}
      },
      "source": [
        "print(df.columns)"
      ],
      "execution_count": null,
      "outputs": []
    },
    {
      "cell_type": "markdown",
      "metadata": {
        "id": "YEiwLvozYjJR",
        "colab_type": "text"
      },
      "source": [
        "### Collect numeric features"
      ]
    },
    {
      "cell_type": "code",
      "metadata": {
        "id": "XKoICV50Ylkv",
        "colab_type": "code",
        "colab": {}
      },
      "source": [
        "df_train = pd.DataFrame()\n",
        "\n",
        "num_names = ['purchase_amt','deposit_percent', 'age_of_application', \\\n",
        "             'gtee_rate','term_run_frac', 'total_month']\n",
        "\n",
        "num_names = num_names + cond_names\n",
        "\n",
        "for name in num_names: \n",
        "    if name not in df.columns:\n",
        "        raise ValueError(f'column name: {name} is not valid')\n",
        "\n",
        "for name in num_names: \n",
        "    df_train[name] = df[name].copy()\n",
        "\n",
        "df_train.head(10)"
      ],
      "execution_count": null,
      "outputs": []
    },
    {
      "cell_type": "markdown",
      "metadata": {
        "id": "cmEMzniXU-dW",
        "colab_type": "text"
      },
      "source": [
        "### Encode categorical features"
      ]
    },
    {
      "cell_type": "code",
      "metadata": {
        "id": "99U9oSvMD6iL",
        "colab_type": "code",
        "colab": {}
      },
      "source": [
        "def ordered_labels(df, col, order):\n",
        "    df[col] = df[col].astype('category')\n",
        "    df[col] = df[col].cat.reorder_categories(order, ordered=True)\n",
        "    df[col] = df[col].cat.codes.astype(int)"
      ],
      "execution_count": null,
      "outputs": []
    },
    {
      "cell_type": "code",
      "metadata": {
        "id": "NgT89flKYv1K",
        "colab_type": "code",
        "colab": {}
      },
      "source": [
        "# split the categorical features into... \n",
        "# ordered\n",
        "ordered_features = ['application_year', 'application_month']\n",
        "ordered_dict = dict()\n",
        "for elm in ordered_features:\n",
        "    ordered_dict[elm] = df[elm].value_counts().sort_index().index\n",
        "\n",
        "# one-hot like\n",
        "oneHot_features = ['product', 'consumer_post_code', 'industry_name']\n",
        "\n",
        "# binary encoder\n",
        "nominated_features = ['payment_type', 'freq', 'homowner_ind', 'homowner_consumer', 'isDefault']\n",
        "\n",
        "cate_names = ordered_features + nominated_features + oneHot_features\n",
        "\n",
        "# initialise encoder\n",
        "le = LabelEncoder()\n",
        "\n",
        "# start encoding... \n",
        "for col in cate_names: \n",
        "    df_train[col] = df[col].copy()\n",
        "\n",
        "    # the ordered_features\n",
        "    if col in ordered_features:\n",
        "        ordered_labels(df_train, col, ordered_dict[col])\n",
        "        continue\n",
        "\n",
        "    # the one-hot like features\n",
        "    if col in oneHot_features:\n",
        "        encoder = ce.BinaryEncoder(cols=[col])\n",
        "        df_train = pd.concat([df_train, encoder.fit_transform(df_train[col])], axis=1)\n",
        "        df_train.drop(columns=[col], inplace=True)\n",
        "        continue\n",
        "\n",
        "    # other features\n",
        "    le.fit(list(df_train[col].astype(str).values))\n",
        "    df_train[col] = le.transform(list(df_train[col].astype(str).values))\n",
        "    length = df_train[col].value_counts().shape\n",
        "\n",
        "df_train.head(10)"
      ],
      "execution_count": null,
      "outputs": []
    },
    {
      "cell_type": "code",
      "metadata": {
        "id": "ciFpgBiTdiSV",
        "colab_type": "code",
        "colab": {}
      },
      "source": [
        "df_train.shape"
      ],
      "execution_count": null,
      "outputs": []
    },
    {
      "cell_type": "markdown",
      "metadata": {
        "id": "iAbv5rYgQJB8",
        "colab_type": "text"
      },
      "source": [
        "### Rescale everything to (0, 1)"
      ]
    },
    {
      "cell_type": "code",
      "metadata": {
        "id": "m6eFt8r4XArX",
        "colab_type": "code",
        "colab": {}
      },
      "source": [
        "# Scale numeric features to (0, 1)\n",
        "value_array = df_train.values\n",
        "col_names = df_train.columns\n",
        "\n",
        "min_max_scaler = MinMaxScaler()\n",
        "\n",
        "value_array_scaled = min_max_scaler.fit_transform(value_array)\n",
        "\n",
        "df_train = pd.DataFrame(value_array_scaled, columns=col_names)\n",
        "\n",
        "df_train.describe()"
      ],
      "execution_count": null,
      "outputs": []
    },
    {
      "cell_type": "markdown",
      "metadata": {
        "id": "IT8QMEqkba-3",
        "colab_type": "text"
      },
      "source": [
        "### Separate input and output"
      ]
    },
    {
      "cell_type": "code",
      "metadata": {
        "id": "iPb6spb6VHKC",
        "colab_type": "code",
        "colab": {}
      },
      "source": [
        "# model input\n",
        "X = df_train.drop(columns=['isDefault'])\n",
        "\n",
        "# expected output\n",
        "y = df_train['isDefault']\n",
        "\n",
        "print(X.shape)\n",
        "print(y.shape)"
      ],
      "execution_count": null,
      "outputs": []
    },
    {
      "cell_type": "markdown",
      "metadata": {
        "id": "MuhLX5AHbDAZ",
        "colab_type": "text"
      },
      "source": [
        "### Re-sampling with SMOTE"
      ]
    },
    {
      "cell_type": "code",
      "metadata": {
        "id": "ZLNS8S8bbHCy",
        "colab_type": "code",
        "colab": {}
      },
      "source": [
        "# initialise SMOTE sampling\n",
        "sm = SMOTE(random_state=RAND_STATE)\n",
        "\n",
        "# resample the training set\n",
        "input, target = sm.fit_sample(X, y.ravel())\n",
        "print(target.mean())"
      ],
      "execution_count": null,
      "outputs": []
    },
    {
      "cell_type": "code",
      "metadata": {
        "id": "FvMqxPTqdvhb",
        "colab_type": "code",
        "colab": {}
      },
      "source": [
        "df_tmp = pd.DataFrame(input, columns=X.columns)\n",
        "df_tmp['isDefault'] = target\n",
        "\n",
        "df_train = df_tmp\n",
        "del df_tmp\n",
        "df_train.shape"
      ],
      "execution_count": null,
      "outputs": []
    },
    {
      "cell_type": "code",
      "metadata": {
        "id": "qy2-yO0mT3TD",
        "colab_type": "code",
        "colab": {}
      },
      "source": [
        "# model input\n",
        "X = df_train.drop(columns=['isDefault'])\n",
        "\n",
        "# expected output\n",
        "y = df_train['isDefault']\n",
        "\n",
        "print(X.shape)\n",
        "print(y.shape)"
      ],
      "execution_count": null,
      "outputs": []
    },
    {
      "cell_type": "markdown",
      "metadata": {
        "id": "UcaZLlR3i3R6",
        "colab_type": "text"
      },
      "source": [
        "# Model Training and Validating"
      ]
    },
    {
      "cell_type": "markdown",
      "metadata": {
        "id": "X5jp7qKWjGHf",
        "colab_type": "text"
      },
      "source": [
        "## HyperOpt function and parameters space definition"
      ]
    },
    {
      "cell_type": "code",
      "metadata": {
        "id": "gQwvOoWJjWce",
        "colab_type": "code",
        "colab": {}
      },
      "source": [
        "'''\n",
        "Define the objective function\n",
        "    The output of this objective fnc has been set to the negative value of the mean\n",
        "    score, so that fmin() can be used to find the most suitable parameters for \n",
        "    maximum mean score.\n",
        "'''\n",
        "def objective(params):\n",
        "    time1 = time.time()\n",
        "\n",
        "    params = {\n",
        "        'penalty'         : str(params['penalty']),\n",
        "        'C'               : float(params['C']),\n",
        "        'solver'          : str(params['solver'])\n",
        "    }\n",
        "\n",
        "    df_toprint = pd.DataFrame(params, index=[0])\n",
        "\n",
        "    print('\\n############## New Run ################')\n",
        "    print(f\"params = {df_toprint.transpose()}\")\n",
        "\n",
        "    # declair total number of folds and fold counter\n",
        "    FOLDS = 6\n",
        "    counter = 1\n",
        "\n",
        "    # instantiate the TSS model\n",
        "    skf = StratifiedKFold(n_splits=FOLDS, shuffle=True, random_state=RAND_STATE)\n",
        "\n",
        "    # initialise the 0-valued array to hold the flag of wrong predictions for training set\n",
        "    y_oof = np.zeros(X.shape[0])\n",
        "\n",
        "    # initialise the mean score for the cross-validation\n",
        "    score_mean = 0\n",
        "    score_acc_mean = 0\n",
        "\n",
        "    print(f'Training set shape: {X.shape}')\n",
        "\n",
        "    print('\\nCV - scores: ')\n",
        "\n",
        "    # Start the Training and Cross-validation loop\n",
        "    for t_idx, v_idx in skf.split(X, y):\n",
        "\n",
        "        # instantiate the XGB classifier\n",
        "        clf = LogisticRegression(random_state=RAND_STATE, **params)\n",
        "\n",
        "        # get the time series split indices\n",
        "        X_t, X_v = X.iloc[t_idx, :], X.iloc[v_idx, :]\n",
        "        y_t, y_v = y.iloc[t_idx], y.iloc[v_idx]\n",
        "\n",
        "        # Model training\n",
        "        clf.fit(X_t, y_t)\n",
        "        # clf.fit(X_t_res, y_t_res)\n",
        "\n",
        "        # Obtain the validation score for the fitted model\n",
        "        score = make_scorer(roc_auc_score, needs_proba=True)(clf, X_v, y_v)\n",
        "        score_mean += score\n",
        "\n",
        "        score_acc = make_scorer(accuracy_score)(clf, X_v, y_v)\n",
        "        score_acc_mean += score_acc\n",
        "\n",
        "        print(f'    {counter} :auc = {round(score, 4)}; acc = {round(score_acc, 4)}', end = \" \")\n",
        "\n",
        "\n",
        "        # advance the fold counter\n",
        "        counter += 1\n",
        "    \n",
        "    # record the time elapsed\n",
        "    time2 = time.time() - time1\n",
        "\n",
        "    print(f\"Total Time Run: {round(time2 / 60,2)}\")\n",
        "    gc.collect() # garbage collection\n",
        "    print(f'Mean ROC_AUC : {round((score_mean / FOLDS), 4)}')\n",
        "    print(f'Mean ACCURACY: {round((score_acc_mean / FOLDS), 4)}')\n",
        "\n",
        "\n",
        "    del X_t, X_v, y_t, y_v, clf, score\n",
        "    # del X_t_res, y_t_res\n",
        "\n",
        "\n",
        "    return -(score_mean / FOLDS)"
      ],
      "execution_count": null,
      "outputs": []
    },
    {
      "cell_type": "code",
      "metadata": {
        "id": "ZRKlLfAw_D4Q",
        "colab_type": "code",
        "colab": {}
      },
      "source": [
        "'''\n",
        "Initial guess of the objective function parameters\n",
        "'''\n",
        "\n",
        "space = {\n",
        "    'penalty' : hp.choice('penalty', ['l2']),\n",
        "    'C' : hp.choice('C', [500]), \n",
        "    'solver' : hp.choice('solver', ['liblinear'])\n",
        "}\n",
        "\n",
        "# space = {\n",
        "#     'penalty' : hp.choice('penalty', ['l2']),\n",
        "#     'C' : hp.choice('C', np.logspace(-4, 4, 100)), \n",
        "#     'solver' : hp.choice('solver', ['newton-cg', 'lbfgs', 'liblinear', 'sag', 'saga'])\n",
        "# }"
      ],
      "execution_count": null,
      "outputs": []
    },
    {
      "cell_type": "markdown",
      "metadata": {
        "id": "h_o3yrCMjLEW",
        "colab_type": "text"
      },
      "source": [
        "## Running the optimiser to train the model and obtain the best parameter combination"
      ]
    },
    {
      "cell_type": "code",
      "metadata": {
        "id": "faB9-9d5jW8J",
        "colab_type": "code",
        "colab": {}
      },
      "source": [
        "# Set algoritm parameters\n",
        "best = fmin(fn=objective,\n",
        "            space=space,\n",
        "            algo=tpe.suggest,\n",
        "            max_evals=1)\n",
        "\n",
        "# Print best parameters\n",
        "best_params = space_eval(space, best)\n",
        "\n",
        "print(\"BEST PARAMS: \", best_params)"
      ],
      "execution_count": null,
      "outputs": []
    },
    {
      "cell_type": "markdown",
      "metadata": {
        "id": "8oLQWN-mjT4X",
        "colab_type": "text"
      },
      "source": [
        "# Post Processing -- Feature Importance Summary"
      ]
    },
    {
      "cell_type": "markdown",
      "metadata": {
        "id": "SyHBxgNX__Ej",
        "colab_type": "text"
      },
      "source": [
        "## Train a model with the best parameter set"
      ]
    },
    {
      "cell_type": "code",
      "metadata": {
        "id": "MGFGvJ3yjXlL",
        "colab_type": "code",
        "colab": {}
      },
      "source": [
        "clf = LogisticRegression(random_state=RAND_STATE, **best_params)\n",
        "\n",
        "clf.fit(X, y)"
      ],
      "execution_count": null,
      "outputs": []
    },
    {
      "cell_type": "markdown",
      "metadata": {
        "id": "6CbsAi9XAF5m",
        "colab_type": "text"
      },
      "source": [
        "## Obtain the feature importance map"
      ]
    },
    {
      "cell_type": "code",
      "metadata": {
        "id": "TfpmYu_Ejdb0",
        "colab_type": "code",
        "colab": {}
      },
      "source": [
        "# get feature importance ratings\n",
        "importance = list(map(abs, clf.coef_[0].tolist()))\n",
        "feat_names = X.columns\n",
        "\n",
        "df_featImp = pd.DataFrame(data=importance, index=feat_names, columns=['score']).sort_values(by='score', ascending=True)\n",
        "\n",
        "\n",
        "ax = df_featImp.plot(kind='barh', figsize=(5,10))"
      ],
      "execution_count": null,
      "outputs": []
    },
    {
      "cell_type": "code",
      "metadata": {
        "id": "lPMAlhjADA1R",
        "colab_type": "code",
        "colab": {}
      },
      "source": [
        "df_featImp.sort_values(by='score', ascending=False).head(20)"
      ],
      "execution_count": null,
      "outputs": []
    },
    {
      "cell_type": "code",
      "metadata": {
        "id": "ElZgjIlPjqtd",
        "colab_type": "code",
        "colab": {}
      },
      "source": [
        "# terminates the current run\n",
        "raise SystemExit('Run Terminated.') "
      ],
      "execution_count": null,
      "outputs": []
    },
    {
      "cell_type": "markdown",
      "metadata": {
        "id": "UwQ87b_NUrgw",
        "colab_type": "text"
      },
      "source": [
        "# Training Results"
      ]
    },
    {
      "cell_type": "code",
      "metadata": {
        "id": "ZNoW9fQQq2mR",
        "colab_type": "code",
        "colab": {}
      },
      "source": [
        "'''\n",
        "0. Original model\n",
        "================================================================================\n",
        "Mean ROC_AUC : 0.6521\n",
        "Mean ACCURACY: 0.8571\n",
        "\n",
        "purchase_amt\t        3.015827\n",
        "age_of_application\t    2.705475\n",
        "deposit_percent\t        1.746485\n",
        "gtee_rate\t            0.633335\n",
        "homowner_consumer\t    0.504437\n",
        "total_month\t            0.478606\n",
        "industry_name_1\t        0.430812\n",
        "industry_name_4\t        0.367680\n",
        "application_year\t    0.281145\n",
        "consumer_post_code_2\t0.248964\n",
        "term_run_frac\t        0.247221\n",
        "payment_type\t        0.245869\n",
        "product_2\t            0.235614\n",
        "consumer_post_code_1\t0.218545\n",
        "product_1\t            0.185457\n",
        "product_3\t            0.108091\n",
        "homowner_ind\t        0.100841\n",
        "industry_name_2\t        0.096097\n",
        "industry_name_6\t        0.086340\n",
        "consumer_post_code_3\t0.078943\n",
        "\n",
        "\n",
        "\n",
        "1. SMOTE\n",
        "================================================================================\n",
        "Mean ROC_AUC : 0.6683\n",
        "Mean ACCURACY: 0.6271\n",
        "\n",
        "purchase_amt\t        3.472045\n",
        "age_of_application\t    3.118785\n",
        "deposit_percent\t        2.044111\n",
        "homowner_consumer\t    0.917468\n",
        "consumer_post_code_1\t0.696817\n",
        "gtee_rate\t            0.667458\n",
        "term_run_frac\t        0.616765\n",
        "total_month\t            0.562021\n",
        "homowner_ind\t        0.561687\n",
        "consumer_post_code_2\t0.485889\n",
        "product_2\t            0.397051\n",
        "product_1\t            0.365540\n",
        "industry_name_4\t        0.353007\n",
        "application_year\t    0.231852\n",
        "product_3\t            0.228520\n",
        "payment_type\t        0.188476\n",
        "consumer_post_code_3\t0.146259\n",
        "industry_name_6\t        0.121417\n",
        "industry_name_2\t        0.090612\n",
        "application_month\t    0.077116\n",
        "\n",
        "\n",
        "2. Conditional features\n",
        "================================================================================\n",
        "Mean ROC_AUC : 0.6551\n",
        "Mean ACCURACY: 0.8571\n",
        "\n",
        "aop_fq_mean\t            5.656338\n",
        "aop_pmtTp_mean\t        4.355559\n",
        "aop_pmtTp_stdev\t        4.110974\n",
        "aop_hoCon_mean\t        3.820768\n",
        "pAmt_indName_mean\t    3.058633\n",
        "pAmt_fq_mean\t        2.996144\n",
        "aop_indName_stdev\t    2.733245\n",
        "pAmt_pmtTp_stdev\t    2.317841\n",
        "aop_hoCon_stdev\t        2.144659\n",
        "pAmt_fq_stdev\t        2.017118\n",
        "aop_fq_stdev\t        1.938017\n",
        "deposit_percent\t        1.836419\n",
        "age_of_application\t    1.533660\n",
        "aop_hoId_stdev\t        1.332799\n",
        "aop_indName_mean\t    1.223487\n",
        "homowner_consumer\t    0.915064\n",
        "aop_hoId_mean\t        0.871274\n",
        "pAmt_hoId_mean\t        0.838960\n",
        "pAmt_hoCon_stdev\t    0.833364\n",
        "pAmt_hoCon_mean\t        0.826123\n",
        "\n",
        "\n",
        "3. 1 + 2\n",
        "================================================================================\n",
        "Mean ROC_AUC : 0.6739\n",
        "Mean ACCURACY: 0.6312\n",
        "\n",
        "pAmt_pmtTp_stdev\t    10.605212\n",
        "aop_hoCon_mean\t        8.722845\n",
        "aop_fq_mean\t            6.185844\n",
        "pAmt_pmtTp_mean\t        4.232469\n",
        "pAmt_indName_mean\t    3.676728\n",
        "aop_pmtTp_mean\t        3.630854\n",
        "aop_pmtTp_stdev\t        3.543014\n",
        "aop_hoCon_stdev\t        3.335447\n",
        "aop_hoId_mean\t        3.244385\n",
        "aop_indName_stdev\t    2.779993\n",
        "pAmt_fq_stdev\t        2.467831\n",
        "pAmt_fq_mean\t        2.409095\n",
        "purchase_amt\t        2.309612\n",
        "aop_fq_stdev\t        2.277520\n",
        "deposit_percent\t        2.179834\n",
        "homowner_consumer\t    1.794267\n",
        "pAmt_hoId_stdev\t        1.424730\n",
        "age_of_application\t    1.371557\n",
        "pAmt_hoCon_mean\t        1.323430\n",
        "pAmt_hoId_mean\t        1.251162\n",
        "\n",
        "\n",
        "'''"
      ],
      "execution_count": null,
      "outputs": []
    },
    {
      "cell_type": "code",
      "metadata": {
        "id": "hxLtaY1HeX8x",
        "colab_type": "code",
        "colab": {}
      },
      "source": [
        "'''\n",
        "Fixing input space\n",
        "==================\n",
        "space = {\n",
        "    'penalty' : hp.choice('penalty', ['l2']),\n",
        "    'C' : hp.choice('C', [1]), \n",
        "    'solver' : hp.choice('solver', ['liblinear'])\n",
        "}\n",
        "\n",
        "Without conditional features: \n",
        "=============================\n",
        "AUC = 0.6686\n",
        "ACC = 0.6276\n",
        "\n",
        "With conditional features: \n",
        "==========================\n",
        "['aop_indName_mean', 'aop_indName_stdev',\\\n",
        " 'pAmt_indName_mean', 'pAmt_indName_stdev']\n",
        "\n",
        "AUC = 0.6708\n",
        "ACC = 0.6294\n",
        "\n",
        "With above conditional features and remove the entries with -1 age_of_application\n",
        "================================\n",
        "Mean ROC_AUC : 0.6712\n",
        "Mean ACCURACY: 0.6297\n",
        "\n",
        "With additional conditional features: \n",
        "===============================\n",
        "['aop_indName_mean', 'aop_indName_stdev', 'aop_pmtTp_mean',\\\n",
        "'aop_pmtTp_stdev', 'aop_fq_mean', 'aop_fq_stdev', 'aop_hoId_mean',\\\n",
        "'aop_hoId_stdev', 'aop_hoCon_mean', 'aop_hoCon_stdev', 'pAmt_indName_mean',\\\n",
        "'pAmt_indName_stdev', 'pAmt_pmtTp_mean', 'pAmt_pmtTp_stdev', 'pAmt_fq_mean',\\\n",
        "'pAmt_fq_stdev', 'pAmt_hoId_mean', 'pAmt_hoId_stdev', 'pAmt_hoCon_mean', 'pAmt_hoCon_stdev']\n",
        "\n",
        "Mean ROC_AUC : 0.6739\n",
        "Mean ACCURACY: 0.6309\n",
        "\n",
        "Modify input space with above conditional features\n",
        "==================\n",
        "space = {\n",
        "    'penalty' : hp.choice('penalty', ['l2']),\n",
        "    'C' : hp.choice('C', [500]), \n",
        "    'solver' : hp.choice('solver', ['liblinear'])\n",
        "}\n",
        "\n",
        "Mean ROC_AUC : 0.674\n",
        "Mean ACCURACY: 0.6309\n",
        "'''"
      ],
      "execution_count": null,
      "outputs": []
    },
    {
      "cell_type": "code",
      "metadata": {
        "id": "VR7yRQB3JopI",
        "colab_type": "code",
        "colab": {}
      },
      "source": [
        "'''\n",
        "BEST PARAMS:  {'C': 545.5594781168514, 'penalty': 'l2', 'solver': 'liblinear'}\n",
        "\n",
        "\n",
        "CV - scores: \n",
        "    1 : 0.6513;\n",
        "    2 : 0.6523;\n",
        "    3 : 0.6509;\n",
        "    4 : 0.6522;\n",
        "    5 : 0.6554;\n",
        "    6 : 0.65;\n",
        "Total Time Run: 0.38\n",
        "\n",
        "\n",
        "age_of_application\t    3.305887\n",
        "purchase_amt\t        3.111321\n",
        "deposit_percent\t        1.750232\n",
        "gtee_rate\t            0.644461\n",
        "homowner_consumer\t    0.505763\n",
        "total_month\t            0.448497\n",
        "industry_name_1\t        0.404635\n",
        "industry_name_4\t        0.357544\n",
        "term_run_frac\t        0.305157\n",
        "application_year\t    0.282223\n",
        "consumer_post_code_2\t0.248970\n",
        "payment_type\t        0.246252\n",
        "consumer_post_code_1\t0.220856\n",
        "product_2\t            0.212898\n",
        "product_1\t            0.182107\n",
        "product_3\t            0.124898\n",
        "industry_name_2\t        0.106117\n",
        "homowner_ind\t        0.104002\n",
        "industry_name_6 \t    0.092173\n",
        "consumer_post_code_3\t0.079214\n",
        "\n",
        "'''"
      ],
      "execution_count": null,
      "outputs": []
    },
    {
      "cell_type": "code",
      "metadata": {
        "id": "4e1Pz6JoiFUN",
        "colab_type": "code",
        "colab": {}
      },
      "source": [
        "'''\n",
        "BEST PARAMS:  {'C': 16.23776739188721, 'penalty': 'l2', 'solver': 'lbfgs'}\n",
        "\n",
        "\n",
        "CV - scores: \n",
        "    1 : 0.6513;\n",
        "    2 : 0.6523;\n",
        "    3 : 0.6509;\n",
        "    4 : 0.6522;\n",
        "    5 : 0.6553;\n",
        "    6 : 0.6501;\n",
        "\n",
        "\n",
        "age_of_application\t    3.311348\n",
        "purchase_amt\t        3.095686\n",
        "deposit_percent\t        1.746661\n",
        "gtee_rate\t            0.651738\n",
        "industry_name_1\t        0.527772\n",
        "homowner_consumer\t    0.491427\n",
        "total_month\t            0.452777\n",
        "industry_name_4\t        0.362157\n",
        "application_year\t    0.290661\n",
        "consumer_post_code_2\t0.249201\n",
        "payment_type\t        0.246723\n",
        "consumer_post_code_1\t0.221004\n",
        "product_2\t            0.215359\n",
        "term_run_frac\t        0.215209\n",
        "product_1\t            0.174818\n",
        "product_3\t            0.126728\n",
        "industry_name_2\t        0.102357\n",
        "industry_name_6\t        0.094139\n",
        "homowner_ind\t        0.084542\n",
        "consumer_post_code_3\t0.079851\n",
        "'''"
      ],
      "execution_count": null,
      "outputs": []
    },
    {
      "cell_type": "markdown",
      "metadata": {
        "id": "HGaTCyhUcaY9",
        "colab_type": "text"
      },
      "source": [
        "# Code Dump"
      ]
    },
    {
      "cell_type": "markdown",
      "metadata": {
        "id": "ZWWTMkk2Oc0a",
        "colab_type": "text"
      },
      "source": [
        "## Exploring other features"
      ]
    },
    {
      "cell_type": "markdown",
      "metadata": {
        "id": "L_bFaWfpx6cr",
        "colab_type": "text"
      },
      "source": [
        "### Exploring arrears amount feature"
      ]
    },
    {
      "cell_type": "code",
      "metadata": {
        "id": "IriQX94hg12n",
        "colab_type": "code",
        "colab": {}
      },
      "source": [
        "# a = df['arrears_amount'].value_counts(dropna=False).sort_index()\n",
        "# print(a)"
      ],
      "execution_count": null,
      "outputs": []
    },
    {
      "cell_type": "code",
      "metadata": {
        "id": "U2K1Z-ujhRRc",
        "colab_type": "code",
        "colab": {}
      },
      "source": [
        "# df_tmp = df.loc[ df['arrears_amount'] == 0]\n",
        "# df_tmp['contract_status'].value_counts(normalize=True, dropna=False)"
      ],
      "execution_count": null,
      "outputs": []
    },
    {
      "cell_type": "markdown",
      "metadata": {
        "id": "xsfUBfo9BW-2",
        "colab_type": "text"
      },
      "source": [
        "### Exploring contract_status feature"
      ]
    },
    {
      "cell_type": "code",
      "metadata": {
        "id": "ym-oyOxCj-3D",
        "colab_type": "code",
        "colab": {}
      },
      "source": [
        "# '''\n",
        "# Separate the dataframe by contract status\n",
        "# '''\n",
        "\n",
        "# df_paid = df.loc[df['contract_status'] == 'PaidInFull']\n",
        "# df_default = df.loc[df['contract_status'] == 'Default']\n",
        "# df_active = df.loc[df['contract_status'] == 'Active']\n",
        "# print(df['contract_status'].value_counts(normalize=True))"
      ],
      "execution_count": null,
      "outputs": []
    },
    {
      "cell_type": "code",
      "metadata": {
        "id": "9RRPEgCcla7F",
        "colab_type": "code",
        "colab": {}
      },
      "source": [
        "# # '''\n",
        "# # Look at the Paid-set\n",
        "# # '''\n",
        "# print(df_paid['arrears_amount'].value_counts(dropna=False, normalize=True).sort_index())\n",
        "# print()\n",
        "# print(df_paid['age_of_recent_default'].value_counts(dropna=False, normalize=False).sort_index())\n",
        "# print()\n",
        "# print(df_paid['total_balance_outstanding'].value_counts(dropna=False, normalize=True).sort_index())\n",
        "# print()\n",
        "# print(df_paid['defaultdate'].value_counts(dropna=False, normalize=True).sort_index())\n",
        "# print()\n",
        "# print((df_paid['term_run'] / df_paid['total_term']).value_counts(dropna=False, normalize=True).sort_index())\n",
        "# print()\n"
      ],
      "execution_count": null,
      "outputs": []
    },
    {
      "cell_type": "code",
      "metadata": {
        "id": "se7q9APt-SSI",
        "colab_type": "code",
        "colab": {}
      },
      "source": [
        "# # '''\n",
        "# # Look at the Default-set\n",
        "# # '''\n",
        "# print(df_default['arrears_amount'].value_counts(dropna=False, normalize=True).sort_values(ascending=False))\n",
        "# print()\n",
        "# print(df_default['age_of_recent_default'].value_counts(dropna=False, normalize=True).sort_values(ascending=False))\n",
        "# print()\n",
        "# print(df_default['total_balance_outstanding'].value_counts(dropna=False, normalize=True).sort_values(ascending=False))\n",
        "# print()\n",
        "# print(df_default['defaultdate'].value_counts(dropna=False, normalize=True).sort_index())\n",
        "# print()\n",
        "# print((df_default['term_run'] / df_default['total_term']).value_counts(dropna=False, normalize=True).sort_index())\n",
        "# print()"
      ],
      "execution_count": null,
      "outputs": []
    },
    {
      "cell_type": "code",
      "metadata": {
        "id": "yYchalKIAFhM",
        "colab_type": "code",
        "colab": {}
      },
      "source": [
        "# # '''\n",
        "# # Look at the active-set\n",
        "# # '''\n",
        "# print(df_active['arrears_amount'].value_counts(dropna=False, normalize=True).sort_index())\n",
        "# print()\n",
        "# print(df_active['age_of_recent_default'].value_counts(dropna=False, normalize=True).sort_index())\n",
        "# print()\n",
        "# print(df_active['total_balance_outstanding'].value_counts(dropna=False, normalize=True).sort_index())\n",
        "# print()\n",
        "# print(df_active['defaultdate'].value_counts(dropna=False, normalize=True).sort_index())\n",
        "# print()\n",
        "# print((df_active['term_run'] / df_active['total_term']).value_counts(dropna=False, normalize=True).sort_index())\n",
        "# print()"
      ],
      "execution_count": null,
      "outputs": []
    },
    {
      "cell_type": "markdown",
      "metadata": {
        "id": "7vooTQ19Aqld",
        "colab_type": "text"
      },
      "source": [
        "**My Questions regarding the \"contract_status\" feature (ground-truth?)**\n",
        "\n",
        "* All instances in \"PaidInFull\" subset have 0.0 \"arrears_amount\", but more than 10% of the instances in this subset has a valid \"age_of_recent_default\", which suggests default did occur to these intances. All instances in this subset have NaN value for \"defaultdate\"\n",
        "\n",
        "* About 3% of the instances in \"Default\" subset have 0.0 \"arrears_amount\", which indicate default has never occured to these instances. 99.7% of this subset have a valid \"defaultdate\" entry.\n",
        "\n",
        "* \"Active\" subset has very similar behaviour when compared against \"PaidInFull\". All instances in this subset have NaN value for \"defaultdate\"\n",
        "\n",
        "**Options for ground-truth**\n",
        "\n",
        "If **True** ==> has default, **False** ==> has no default: \n",
        "\n",
        "1. **True** = \"Default\" subset and **False** = \"PaidInFull\" + \"Active\" subsets\n",
        "\n",
        "2. **True** = \"arrears_amount\" != 0, and **False** = \"arrears_amount\" == 0\n",
        "\n",
        "3. **True** = \"defaultdate\" == valid date, and **False** = NaN\n",
        "\n",
        "**According to the observations, none of the above options are fully make sense...**"
      ]
    },
    {
      "cell_type": "markdown",
      "metadata": {
        "id": "IjQaKNxcQhVf",
        "colab_type": "text"
      },
      "source": [
        "**Meeting outcome**\n",
        "\n",
        "\n",
        "4. use the combined recent group to determine the ground truth. \n",
        "\n",
        "    i.e. when \"age_of_recent_default\", \"age_of_recent_default_cure\" and \"recent_default_amt\" are all valid ==> **DEFAULT**"
      ]
    },
    {
      "cell_type": "markdown",
      "metadata": {
        "id": "sp1KdwmvnlRA",
        "colab_type": "text"
      },
      "source": [
        "## Exploring the processed features"
      ]
    },
    {
      "cell_type": "code",
      "metadata": {
        "id": "Qn703GRTL9Z6",
        "colab_type": "code",
        "colab": {}
      },
      "source": [
        "df_pos = pd.DataFrame()\n",
        "df_pos = df.loc[df['isDefault'] == 1]\n",
        "\n",
        "df_neg = pd.DataFrame()\n",
        "df_neg = df.loc[df['isDefault'] == 0]\n",
        "\n",
        "print(df_pos.shape)\n",
        "print(df_neg.shape)"
      ],
      "execution_count": null,
      "outputs": []
    },
    {
      "cell_type": "code",
      "metadata": {
        "id": "sqkJQlsokRtn",
        "colab_type": "code",
        "colab": {}
      },
      "source": [
        "xx = df_neg['purchase_amt'].value_counts(normalize=True).sort_index().index\n",
        "yy = df_neg['purchase_amt'].value_counts(normalize=True).sort_index().values\n",
        "\n",
        "plt.xlim(0,20000)\n",
        "# plt.ylim(0,0.01)\n",
        "# plt.title('Consumer Age of Recent Default')\n",
        "plt.xlabel('purchase_amt')\n",
        "plt.ylabel('Probability')\n",
        "plt.plot(xx, yy, 'g.')\n",
        "\n",
        "xx = df_pos['purchase_amt'].value_counts(normalize=True).sort_index().index\n",
        "yy = df_pos['purchase_amt'].value_counts(normalize=True).sort_index().values\n",
        "plt.plot(xx, yy, 'r.')\n",
        "plt.legend(['No Default', 'Default'])"
      ],
      "execution_count": null,
      "outputs": []
    },
    {
      "cell_type": "code",
      "metadata": {
        "id": "t8UUveemm9vQ",
        "colab_type": "code",
        "colab": {}
      },
      "source": [
        "xx = df_neg['isDefault'].values\n",
        "yy = df_neg['purchase_amt'].values\n",
        "\n",
        "plt.xlim(-1, 2)\n",
        "# plt.ylim(0,0.01)\n",
        "# plt.title('Consumer Age of Recent Default')\n",
        "plt.xlabel('isDefault')\n",
        "plt.ylabel('purchase_amt')\n",
        "plt.plot(xx, yy, 'g.')\n",
        "\n",
        "xx = df_pos['isDefault'].values\n",
        "yy = df_pos['purchase_amt'].values\n",
        "plt.plot(xx, yy, 'r.')\n",
        "plt.legend(['No Default', 'Default'])"
      ],
      "execution_count": null,
      "outputs": []
    },
    {
      "cell_type": "code",
      "metadata": {
        "id": "ERHTfwjMmD-a",
        "colab_type": "code",
        "colab": {}
      },
      "source": [
        "xx = df_neg['deposit_percent'].value_counts(normalize=True).sort_index().index\n",
        "yy = df_neg['deposit_percent'].value_counts(normalize=True).sort_index().values\n",
        "\n",
        "# plt.xlim(0,20000)\n",
        "# plt.ylim(0,0.01)\n",
        "# plt.title('Consumer Age of Recent Default')\n",
        "plt.xlabel('deposit_percent')\n",
        "plt.ylabel('Probability')\n",
        "plt.plot(xx, yy, 'g.')\n",
        "\n",
        "xx = df_pos['deposit_percent'].value_counts(normalize=True).sort_index().index\n",
        "yy = df_pos['deposit_percent'].value_counts(normalize=True).sort_index().values\n",
        "plt.plot(xx, yy, 'r.')\n",
        "plt.legend(['No Default', 'Default'])"
      ],
      "execution_count": null,
      "outputs": []
    },
    {
      "cell_type": "code",
      "metadata": {
        "id": "bG_gAZ6VoIaD",
        "colab_type": "code",
        "colab": {}
      },
      "source": [
        "xx = df_neg['isDefault'].values\n",
        "yy = df_neg['deposit_percent'].values\n",
        "\n",
        "plt.xlim(-1, 2)\n",
        "# plt.ylim(0,0.01)\n",
        "# plt.title('Consumer Age of Recent Default')\n",
        "plt.xlabel('isDefault')\n",
        "plt.ylabel('deposit_percent')\n",
        "plt.plot(xx, yy, 'g.')\n",
        "\n",
        "xx = df_pos['isDefault'].values\n",
        "yy = df_pos['deposit_percent'].values\n",
        "plt.plot(xx, yy, 'r.')\n",
        "plt.legend(['No Default', 'Default'])"
      ],
      "execution_count": null,
      "outputs": []
    },
    {
      "cell_type": "code",
      "metadata": {
        "id": "JYolXdnPon-7",
        "colab_type": "code",
        "colab": {}
      },
      "source": [
        "feature = 'age_of_application'\n",
        "xx = df_neg['isDefault'].values\n",
        "yy = df_neg[feature].values\n",
        "\n",
        "plt.xlim(-1, 2)\n",
        "# plt.ylim(0,1)\n",
        "# plt.title('Consumer Age of Recent Default')\n",
        "plt.xlabel('isDefault')\n",
        "plt.ylabel(feature)\n",
        "plt.plot(xx, yy, 'g.')\n",
        "\n",
        "xx = df_pos['isDefault'].values\n",
        "yy = df_pos[feature].values\n",
        "plt.plot(xx, yy, 'r.')\n",
        "plt.legend(['No Default', 'Default'])"
      ],
      "execution_count": null,
      "outputs": []
    },
    {
      "cell_type": "code",
      "metadata": {
        "id": "7penZ2EGsdh6",
        "colab_type": "code",
        "colab": {}
      },
      "source": [
        "feature = 'age_of_application'\n",
        "fig_size = (10,5)\n",
        "figure, axes = plt.subplots(1, 2)\n",
        "df_neg[feature].plot.hist(bins=50, ax=axes[0], figsize=fig_size)\n",
        "df_pos[feature].plot.hist(bins=50, ax=axes[1], figsize=fig_size)\n",
        "axes[0].set_ylim([0, 16000])\n",
        "axes[1].set_ylim([0, 16000])\n",
        "axes[0].set_xlabel('No Default')\n",
        "axes[1].set_xlabel('Default')"
      ],
      "execution_count": null,
      "outputs": []
    },
    {
      "cell_type": "code",
      "metadata": {
        "id": "5ig7kc248Uno",
        "colab_type": "code",
        "colab": {}
      },
      "source": [
        "feature = 'age_of_application'\n",
        "tmp = pd.crosstab(df[feature], df['isDefault'], normalize='index') * 100\n",
        "tmp = tmp.reset_index()\n",
        "tmp.rename(columns={0:'NoDefault', 1:'Default'}, inplace=True)\n",
        "\n",
        "plt.plot(tmp['age_of_application'].values, tmp['Default'], 'r.-')\n",
        "plt.xlim(-1, 100)\n",
        "plt.xlabel('age_of_application')\n",
        "plt.ylabel('% Default')\n",
        "plt.xticks((18, 30, 40, 50, 60, 70, 80, 90, 100))"
      ],
      "execution_count": null,
      "outputs": []
    },
    {
      "cell_type": "code",
      "metadata": {
        "id": "TN88WTe7uihD",
        "colab_type": "code",
        "colab": {}
      },
      "source": [
        "feature = 'purchase_amt'\n",
        "n_bins = 100\n",
        "\n",
        "fig_size = (10,5)\n",
        "figure, axes = plt.subplots(1, 2)\n",
        "df_neg[feature].plot.hist(bins=n_bins, ax=axes[0], figsize=fig_size)\n",
        "df_pos[feature].plot.hist(bins=n_bins, ax=axes[1], figsize=fig_size)\n",
        "for ax in axes:\n",
        "    ax.set_ylim([0, 70000])\n",
        "    ax.set_xlim([0, 20000])\n",
        "\n",
        "axes[0].set_xlabel('No Default')\n",
        "axes[1].set_xlabel('Default')"
      ],
      "execution_count": null,
      "outputs": []
    },
    {
      "cell_type": "code",
      "metadata": {
        "id": "-w1OWe6fwC25",
        "colab_type": "code",
        "colab": {}
      },
      "source": [
        "df_neg['industry_name_conditioned_mean_aop'] = df_neg.groupby(['industry_name'])['age_of_application'].transform('mean')\n",
        "df_pos['industry_name_conditioned_mean_aop'] = df_pos.groupby(['industry_name'])['age_of_application'].transform('mean')\n",
        "\n",
        "xx = df_pos['industry_name'].values\n",
        "yy = df_pos['industry_name_conditioned_mean_aop'].values\n",
        "plt.figure(figsize=(10,20))\n",
        "plt.xticks(rotation=90)\n",
        "plt.plot(yy, xx, 'r.')\n",
        "\n",
        "xx = df_neg['industry_name'].values\n",
        "yy = df_neg['industry_name_conditioned_mean_aop'].values\n",
        "plt.plot(yy, xx, 'g.')\n",
        "plt.legend(['Default', 'No Default'])"
      ],
      "execution_count": null,
      "outputs": []
    }
  ]
}